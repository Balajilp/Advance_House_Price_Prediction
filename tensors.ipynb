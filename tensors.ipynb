{
  "nbformat": 4,
  "nbformat_minor": 0,
  "metadata": {
    "colab": {
      "name": "tensors.ipynb",
      "provenance": [],
      "authorship_tag": "ABX9TyPq3VmbzzLB10s824+xrmLw",
      "include_colab_link": true
    },
    "kernelspec": {
      "name": "python3",
      "display_name": "Python 3"
    },
    "language_info": {
      "name": "python"
    }
  },
  "cells": [
    {
      "cell_type": "markdown",
      "metadata": {
        "id": "view-in-github",
        "colab_type": "text"
      },
      "source": [
        "<a href=\"https://colab.research.google.com/github/Balajilp/Advance_House_Price_Prediction/blob/main/tensors.ipynb\" target=\"_parent\"><img src=\"https://colab.research.google.com/assets/colab-badge.svg\" alt=\"Open In Colab\"/></a>"
      ]
    },
    {
      "cell_type": "markdown",
      "source": [
        "# Pytorch learning"
      ],
      "metadata": {
        "id": "eOZWFX9Pk4CO"
      }
    },
    {
      "cell_type": "markdown",
      "source": [
        "## Tensors Basics\n",
        "A tensors is a generalization of vectors and matrices and is easily understood as multidimentional array.  it has a term and set of \n",
        "techniques known in machine learning in the training and operation of deep learning models can be described in terms of tensors.\n",
        "In many cases tensors are used as a replacement for Numpy to use the power of GPUs.\n",
        "\n",
        "These are a data types used in linear Algebra, and like vectors and matrices we can calculate arithmatics operation with tensors"
      ],
      "metadata": {
        "id": "8kEHy8zWlNVg"
      }
    },
    {
      "cell_type": "code",
      "source": [
        "import torch"
      ],
      "metadata": {
        "id": "fvfdqrE6mEvj"
      },
      "execution_count": 1,
      "outputs": []
    },
    {
      "cell_type": "code",
      "source": [
        "torch.__version__"
      ],
      "metadata": {
        "colab": {
          "base_uri": "https://localhost:8080/",
          "height": 35
        },
        "id": "SSCrEjb8mJQW",
        "outputId": "7dfccee5-b6b5-4dc2-e8a9-463d21cbda54"
      },
      "execution_count": 3,
      "outputs": [
        {
          "output_type": "execute_result",
          "data": {
            "application/vnd.google.colaboratory.intrinsic+json": {
              "type": "string"
            },
            "text/plain": [
              "'1.10.0+cu111'"
            ]
          },
          "metadata": {},
          "execution_count": 3
        }
      ]
    },
    {
      "cell_type": "code",
      "source": [
        "import numpy as np"
      ],
      "metadata": {
        "id": "6xtK8b3MmOKb"
      },
      "execution_count": 4,
      "outputs": []
    },
    {
      "cell_type": "code",
      "source": [
        "lst = [3, 4, 5, 6]\n",
        "arr = np.array(lst)\n",
        "arr"
      ],
      "metadata": {
        "colab": {
          "base_uri": "https://localhost:8080/"
        },
        "id": "pDrxxbKDmtc7",
        "outputId": "e57561d8-b134-4025-cb6f-52657b33a1e7"
      },
      "execution_count": 5,
      "outputs": [
        {
          "output_type": "execute_result",
          "data": {
            "text/plain": [
              "array([3, 4, 5, 6])"
            ]
          },
          "metadata": {},
          "execution_count": 5
        }
      ]
    },
    {
      "cell_type": "code",
      "source": [
        "arr.dtype"
      ],
      "metadata": {
        "colab": {
          "base_uri": "https://localhost:8080/"
        },
        "id": "8r_9Df47m1vq",
        "outputId": "b2ded39a-9f72-4cfb-9871-d7d77557cc16"
      },
      "execution_count": 7,
      "outputs": [
        {
          "output_type": "execute_result",
          "data": {
            "text/plain": [
              "dtype('int64')"
            ]
          },
          "metadata": {},
          "execution_count": 7
        }
      ]
    },
    {
      "cell_type": "markdown",
      "source": [
        "## convert numpy to pytorch tensors"
      ],
      "metadata": {
        "id": "H2ut4xiwm919"
      }
    },
    {
      "cell_type": "code",
      "source": [
        "\n",
        "tensors = torch.from_numpy(arr)\n",
        "tensors"
      ],
      "metadata": {
        "colab": {
          "base_uri": "https://localhost:8080/"
        },
        "id": "x_fpR97Um4aq",
        "outputId": "33444a2d-7312-4669-a0a7-d1f0dff02308"
      },
      "execution_count": 8,
      "outputs": [
        {
          "output_type": "execute_result",
          "data": {
            "text/plain": [
              "tensor([3, 4, 5, 6])"
            ]
          },
          "metadata": {},
          "execution_count": 8
        }
      ]
    },
    {
      "cell_type": "code",
      "source": [
        "# Indexing similar to numpy\n",
        "tensors[1:3]"
      ],
      "metadata": {
        "colab": {
          "base_uri": "https://localhost:8080/"
        },
        "id": "T5WRi6YqnGBi",
        "outputId": "3f633c67-0df6-4719-d5d2-19e915e1532c"
      },
      "execution_count": 9,
      "outputs": [
        {
          "output_type": "execute_result",
          "data": {
            "text/plain": [
              "tensor([4, 5])"
            ]
          },
          "metadata": {},
          "execution_count": 9
        }
      ]
    },
    {
      "cell_type": "code",
      "source": [
        "tensors[1]"
      ],
      "metadata": {
        "colab": {
          "base_uri": "https://localhost:8080/"
        },
        "id": "luC1QeIUnT65",
        "outputId": "037e5cd9-eae9-4f49-9e99-5c64490cf1e4"
      },
      "execution_count": 10,
      "outputs": [
        {
          "output_type": "execute_result",
          "data": {
            "text/plain": [
              "tensor(4)"
            ]
          },
          "metadata": {},
          "execution_count": 10
        }
      ]
    },
    {
      "cell_type": "code",
      "source": [
        "# 'from_numpy' changes in tensors can be done on original numpy array also.  because this method uses same memory location of numpy arrays memory location.\n",
        "tensors[3] = 100\n",
        "print(tensors)\n",
        "print(arr)"
      ],
      "metadata": {
        "colab": {
          "base_uri": "https://localhost:8080/"
        },
        "id": "Vi3ein_ynVTp",
        "outputId": "82c097cf-3b16-44dd-ca3c-9ce7ff691c0f"
      },
      "execution_count": 12,
      "outputs": [
        {
          "output_type": "stream",
          "name": "stdout",
          "text": [
            "tensor([  3,   4,   5, 100])\n",
            "[  3   4   5 100]\n"
          ]
        }
      ]
    },
    {
      "cell_type": "markdown",
      "source": [
        ""
      ],
      "metadata": {
        "id": "qRu4BZ4YohLj"
      }
    },
    {
      "cell_type": "markdown",
      "source": [
        "### another method to create tensors..it will give copy of the numpy array"
      ],
      "metadata": {
        "id": "4ka6ZJxJohUT"
      }
    },
    {
      "cell_type": "code",
      "source": [
        "tensor_arr = torch.tensor(arr)\n",
        "tensor_arr"
      ],
      "metadata": {
        "colab": {
          "base_uri": "https://localhost:8080/"
        },
        "id": "URQpdM1ooUM-",
        "outputId": "db2abd21-8120-40ba-e5f6-2c615896ef68"
      },
      "execution_count": 13,
      "outputs": [
        {
          "output_type": "execute_result",
          "data": {
            "text/plain": [
              "tensor([  3,   4,   5, 100])"
            ]
          },
          "metadata": {},
          "execution_count": 13
        }
      ]
    },
    {
      "cell_type": "code",
      "source": [
        "# here changes not happened in the numpy array\n",
        "tensor_arr[3] = 10\n",
        "print(tensor_arr)\n",
        "print(arr)"
      ],
      "metadata": {
        "colab": {
          "base_uri": "https://localhost:8080/"
        },
        "id": "MdAVYKjsovEB",
        "outputId": "3df3a4bb-6e61-4ca3-91fd-41d1dde36ae6"
      },
      "execution_count": 15,
      "outputs": [
        {
          "output_type": "stream",
          "name": "stdout",
          "text": [
            "tensor([ 3,  4,  5, 10])\n",
            "[  3   4   5 100]\n"
          ]
        }
      ]
    },
    {
      "cell_type": "code",
      "source": [
        "# Zeros and ones\n",
        "torch.zeros(2, 3, dtype=torch.float64)"
      ],
      "metadata": {
        "colab": {
          "base_uri": "https://localhost:8080/"
        },
        "id": "pShpsB62o1Mt",
        "outputId": "f646fa40-c798-45a4-ea62-f774bd17ec53"
      },
      "execution_count": 16,
      "outputs": [
        {
          "output_type": "execute_result",
          "data": {
            "text/plain": [
              "tensor([[0., 0., 0.],\n",
              "        [0., 0., 0.]], dtype=torch.float64)"
            ]
          },
          "metadata": {},
          "execution_count": 16
        }
      ]
    },
    {
      "cell_type": "code",
      "source": [
        "torch.ones(2, 3, dtype=torch.float64)"
      ],
      "metadata": {
        "colab": {
          "base_uri": "https://localhost:8080/"
        },
        "id": "GQXty9pnpLT2",
        "outputId": "345daab2-1f6d-451f-d54c-f433e5043d6e"
      },
      "execution_count": 17,
      "outputs": [
        {
          "output_type": "execute_result",
          "data": {
            "text/plain": [
              "tensor([[1., 1., 1.],\n",
              "        [1., 1., 1.]], dtype=torch.float64)"
            ]
          },
          "metadata": {},
          "execution_count": 17
        }
      ]
    },
    {
      "cell_type": "code",
      "source": [
        "# indexing in 2d tensors also similar to numpy array\n",
        "tensor_2d = torch.tensor(np.arange(0, 15).reshape(5, 3))\n",
        "tensor_2d[:, 1]"
      ],
      "metadata": {
        "colab": {
          "base_uri": "https://localhost:8080/"
        },
        "id": "K_zQ3AfMp_WS",
        "outputId": "0c88193b-d778-41fd-aa65-c3fb23282b1e"
      },
      "execution_count": 25,
      "outputs": [
        {
          "output_type": "execute_result",
          "data": {
            "text/plain": [
              "tensor([ 1,  4,  7, 10, 13])"
            ]
          },
          "metadata": {},
          "execution_count": 25
        }
      ]
    },
    {
      "cell_type": "markdown",
      "source": [
        "## Arithmetic operation on tensors"
      ],
      "metadata": {
        "id": "jhQ6wThIpUM1"
      }
    },
    {
      "cell_type": "code",
      "source": [
        "# arithmetic operation of tensors is pretty much similar to the numpy \n",
        "a = torch.tensor([3, 4, 5], dtype=torch.float)\n",
        "b = torch.tensor([4, 5, 6], dtype=torch.float)"
      ],
      "metadata": {
        "id": "9MEs4ObQpSJt"
      },
      "execution_count": 20,
      "outputs": []
    },
    {
      "cell_type": "code",
      "source": [
        "a+b"
      ],
      "metadata": {
        "colab": {
          "base_uri": "https://localhost:8080/"
        },
        "id": "jEkvJUkFpoIP",
        "outputId": "49eb7165-3191-4153-f542-4fd808d3acef"
      },
      "execution_count": 21,
      "outputs": [
        {
          "output_type": "execute_result",
          "data": {
            "text/plain": [
              "tensor([ 7.,  9., 11.])"
            ]
          },
          "metadata": {},
          "execution_count": 21
        }
      ]
    },
    {
      "cell_type": "code",
      "source": [
        "torch.add(a, b)"
      ],
      "metadata": {
        "colab": {
          "base_uri": "https://localhost:8080/"
        },
        "id": "UDkFRVm2po-k",
        "outputId": "27735062-11d5-4455-fc85-1013a81a2490"
      },
      "execution_count": 22,
      "outputs": [
        {
          "output_type": "execute_result",
          "data": {
            "text/plain": [
              "tensor([ 7.,  9., 11.])"
            ]
          },
          "metadata": {},
          "execution_count": 22
        }
      ]
    },
    {
      "cell_type": "code",
      "source": [
        "c = torch.zeros(3)"
      ],
      "metadata": {
        "id": "CYOuC7wbpz2t"
      },
      "execution_count": 26,
      "outputs": []
    },
    {
      "cell_type": "code",
      "source": [
        "# this means whatever expression happen in below we store it in c\n",
        "torch.add(a, b, out=c)"
      ],
      "metadata": {
        "colab": {
          "base_uri": "https://localhost:8080/"
        },
        "id": "atbbOH7qq6Bz",
        "outputId": "2592ae49-2b70-4204-a0a1-8e8fd907d5dd"
      },
      "execution_count": 28,
      "outputs": [
        {
          "output_type": "execute_result",
          "data": {
            "text/plain": [
              "tensor([ 7.,  9., 11.])"
            ]
          },
          "metadata": {},
          "execution_count": 28
        }
      ]
    },
    {
      "cell_type": "code",
      "source": [
        "torch.add(a, b).sum()"
      ],
      "metadata": {
        "colab": {
          "base_uri": "https://localhost:8080/"
        },
        "id": "2OSuCLwzq-uC",
        "outputId": "0b3f9458-6a5e-45f3-8af5-a7da0e085fbc"
      },
      "execution_count": 29,
      "outputs": [
        {
          "output_type": "execute_result",
          "data": {
            "text/plain": [
              "tensor(27.)"
            ]
          },
          "metadata": {},
          "execution_count": 29
        }
      ]
    },
    {
      "cell_type": "markdown",
      "source": [
        "## Dot Product and Multiplication operations"
      ],
      "metadata": {
        "id": "TUc_gGA8rynm"
      }
    },
    {
      "cell_type": "code",
      "source": [
        "x = torch.tensor([3, 4, 5], dtype=torch.float)\n",
        "y = torch.tensor([4, 5, 6], dtype=torch.float)"
      ],
      "metadata": {
        "id": "kv4Wtm90rhF2"
      },
      "execution_count": 30,
      "outputs": []
    },
    {
      "cell_type": "code",
      "source": [
        "x.mul(y)"
      ],
      "metadata": {
        "colab": {
          "base_uri": "https://localhost:8080/"
        },
        "id": "M2V6_EPrsRlh",
        "outputId": "3a277e05-26a0-414d-fd07-aaab56be92fb"
      },
      "execution_count": 31,
      "outputs": [
        {
          "output_type": "execute_result",
          "data": {
            "text/plain": [
              "tensor([12., 20., 30.])"
            ]
          },
          "metadata": {},
          "execution_count": 31
        }
      ]
    },
    {
      "cell_type": "code",
      "source": [
        "x.dot(y)"
      ],
      "metadata": {
        "colab": {
          "base_uri": "https://localhost:8080/"
        },
        "id": "suKYNiqFsT4X",
        "outputId": "40803afd-41f9-4ec6-ce22-774b20242e9b"
      },
      "execution_count": 32,
      "outputs": [
        {
          "output_type": "execute_result",
          "data": {
            "text/plain": [
              "tensor(62.)"
            ]
          },
          "metadata": {},
          "execution_count": 32
        }
      ]
    },
    {
      "cell_type": "code",
      "source": [
        "# matrix multiplication\n",
        "m = torch.tensor([[1, 4, 2], [1, 5, 5]], dtype=torch.float)\n",
        "n = torch.tensor([[5, 7], [8, 6], [9, 11]], dtype=torch.float)"
      ],
      "metadata": {
        "id": "2jIR88mjsWxY"
      },
      "execution_count": 35,
      "outputs": []
    },
    {
      "cell_type": "code",
      "source": [
        "torch.matmul(m, n)"
      ],
      "metadata": {
        "colab": {
          "base_uri": "https://localhost:8080/"
        },
        "id": "C-YPYFhEsma3",
        "outputId": "241cbf81-fdbf-49b1-8fbc-bec7e11b971b"
      },
      "execution_count": 37,
      "outputs": [
        {
          "output_type": "execute_result",
          "data": {
            "text/plain": [
              "tensor([[55., 53.],\n",
              "        [90., 92.]])"
            ]
          },
          "metadata": {},
          "execution_count": 37
        }
      ]
    },
    {
      "cell_type": "code",
      "source": [
        "# instead of using matmul we can use mm. this is the short form of matrix multiplication\n",
        "torch.mm(m, n)"
      ],
      "metadata": {
        "colab": {
          "base_uri": "https://localhost:8080/"
        },
        "id": "DNuPVCXOtNme",
        "outputId": "e657ced7-92c0-4ff7-e718-9258d34ef99b"
      },
      "execution_count": 38,
      "outputs": [
        {
          "output_type": "execute_result",
          "data": {
            "text/plain": [
              "tensor([[55., 53.],\n",
              "        [90., 92.]])"
            ]
          },
          "metadata": {},
          "execution_count": 38
        }
      ]
    },
    {
      "cell_type": "code",
      "source": [
        ""
      ],
      "metadata": {
        "id": "g4oiVlahtaB3"
      },
      "execution_count": null,
      "outputs": []
    }
  ]
}